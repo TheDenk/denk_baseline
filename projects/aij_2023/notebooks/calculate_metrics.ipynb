{
 "cells": [
  {
   "cell_type": "code",
   "execution_count": 2,
   "id": "f19dfe8b",
   "metadata": {},
   "outputs": [],
   "source": [
    "import numpy as np\n",
    "import pandas as pd\n",
    "from sklearn.metrics import confusion_matrix"
   ]
  },
  {
   "cell_type": "code",
   "execution_count": 3,
   "id": "9a59dda4",
   "metadata": {},
   "outputs": [],
   "source": [
    "def mean_class_accuracy(predicts, labels):\n",
    "    conf_matrix = confusion_matrix(y_pred=predicts, y_true=labels)\n",
    "\n",
    "    cls_cnt = conf_matrix.sum(axis=1)\n",
    "    cls_hit = np.diag(conf_matrix)\n",
    "\n",
    "    metrics = [hit / cnt if cnt else 0.0 for cnt, hit in zip(cls_cnt, cls_hit)]\n",
    "    mean_class_acc = np.mean(metrics)\n",
    "\n",
    "    return mean_class_acc"
   ]
  },
  {
   "cell_type": "code",
   "execution_count": 12,
   "id": "7c0b6b2e",
   "metadata": {},
   "outputs": [],
   "source": [
    "gt_df = pd.read_table('./data/test_18.csv')\n",
    "gt_df = gt_df[['attachment_id', 'label']].set_index('attachment_id')\n",
    "\n",
    "pr_df = pd.read_table('./submit/predicts.csv')\n",
    "pr_df = pr_df[['attachment_id', 'class_indx']].set_index('attachment_id')"
   ]
  },
  {
   "cell_type": "code",
   "execution_count": 13,
   "id": "c58a5494",
   "metadata": {},
   "outputs": [
    {
     "data": {
      "text/plain": [
       "0.8366633366633367"
      ]
     },
     "execution_count": 13,
     "metadata": {},
     "output_type": "execute_result"
    }
   ],
   "source": [
    "df = gt_df.join(pr_df)\n",
    "\n",
    "mean_class_accuracy(df['class_indx'].values, df[['label']])"
   ]
  },
  {
   "cell_type": "code",
   "execution_count": 5,
   "id": "09f1cbe1",
   "metadata": {},
   "outputs": [],
   "source": [
    "# Most common, no tta:\n",
    "# 0.6583416583416584\n",
    "#\n",
    "# Most common, flip:\n",
    "# 0.6733266733266733\n",
    "#\n",
    "# Most common, five crops 256 - 256: \n",
    "# 0.6858141858141859\n",
    "#\n",
    "# Most common, five crops 256 - 240: \n",
    "# 0.6758241758241759\n",
    "#\n",
    "\n",
    "# Max model Most common, no tta:\n",
    "# 0.7447552447552448\n",
    "# Max model Most common, flip:\n",
    "# 0.7447552447552448\n",
    "# Max model Most common, five crops 256 - 256: \n",
    "# 0.7527472527472527\n",
    "\n",
    "# PreLast model Most common, no tta:\n",
    "# 0.7937062937062938\n",
    "\n",
    "# Last model Most common, no tta:\n",
    "# 0.8381618381618382\n",
    "\n",
    "# Last model Most common, no tta, repeat last:\n",
    "# 0.8361638361638362"
   ]
  },
  {
   "cell_type": "code",
   "execution_count": null,
   "id": "fcfd379a",
   "metadata": {},
   "outputs": [],
   "source": []
  },
  {
   "cell_type": "code",
   "execution_count": null,
   "id": "d731bf15",
   "metadata": {},
   "outputs": [],
   "source": []
  },
  {
   "cell_type": "code",
   "execution_count": 8,
   "id": "c1669a8e",
   "metadata": {},
   "outputs": [],
   "source": [
    "# show_video_in_jupyter('/home/user/datasets/slovo/dataset_15/45eb40a3-edd3-437f-9cfa-5040df72d275.mp4')"
   ]
  },
  {
   "cell_type": "code",
   "execution_count": 16,
   "id": "99735d68",
   "metadata": {},
   "outputs": [
    {
     "data": {
      "text/plain": [
       "1"
      ]
     },
     "execution_count": 16,
     "metadata": {},
     "output_type": "execute_result"
    }
   ],
   "source": [
    "import torch\n",
    "import numpy as np\n",
    "import torchvision.transforms as transforms\n",
    "from decord import VideoReader\n",
    "from denku import show_video_in_jupyter, show_images\n",
    "\n",
    "class VideoProcessor:\n",
    "    def __init__(self, \n",
    "                 video_path, \n",
    "                 min_side=256,\n",
    "                 sample_size=224, \n",
    "                 sample_stride=2, \n",
    "                 sample_n_frames=32,\n",
    "                 batch_stride=8,\n",
    "            ):\n",
    "        \n",
    "        self.video_reader = VideoReader(video_path)\n",
    "        self.video_length = len(self.video_reader)\n",
    "\n",
    "        self.sample_stride = sample_stride\n",
    "        self.sample_n_frames = sample_n_frames\n",
    "        self.batch_stride = batch_stride\n",
    "        \n",
    "        self.pixel_transforms = transforms.Compose([\n",
    "            transforms.Resize(min_side, antialias=False),\n",
    "            transforms.CenterCrop((sample_size, sample_size)),\n",
    "            transforms.Normalize(mean=[0.5, 0.5, 0.5], std=[0.5, 0.5, 0.5], inplace=True),\n",
    "        ])\n",
    "    \n",
    "    def get_frames(self, start_frame):\n",
    "        clip_length = min(self.video_length - start_frame, (self.sample_n_frames - 1) * self.sample_stride + 1)\n",
    "        batch_index = np.linspace(start_frame, start_frame + clip_length - 1, self.sample_n_frames, dtype=int)\n",
    "        pixel_values = torch.from_numpy(self.video_reader.get_batch(batch_index).asnumpy()).permute(0, 3, 1, 2).contiguous()\n",
    "        return pixel_values\n",
    "\n",
    "    def get_video(self, start_frame=0):\n",
    "        pixel_values = self.get_frames(start_frame)\n",
    "        pixel_values = pixel_values / 255.0\n",
    "        pixel_values = self.pixel_transforms(pixel_values)\n",
    "        pixel_values = pixel_values.permute(1, 0, 2, 3)\n",
    "        return pixel_values\n",
    "    \n",
    "    def get_video_batch(self):\n",
    "        video_batch = []\n",
    "        clip_len = (self.sample_n_frames - 1) * self.sample_stride + 1\n",
    "        \n",
    "        for start_frame in range(0, max(self.video_length - clip_len, 1), self.batch_stride):\n",
    "            frames = self.get_video(start_frame=start_frame)\n",
    "            video_batch.append(frames)\n",
    "        return video_batch\n",
    "    \n",
    "video_processor = VideoProcessor('/home/user/datasets/slovo/dataset_15/45eb40a3-edd3-437f-9cfa-5040df72d275.mp4')\n",
    "len(video_processor.get_video_batch())"
   ]
  },
  {
   "cell_type": "code",
   "execution_count": null,
   "id": "8127706a",
   "metadata": {},
   "outputs": [],
   "source": []
  },
  {
   "cell_type": "code",
   "execution_count": null,
   "id": "45717d14",
   "metadata": {},
   "outputs": [],
   "source": []
  },
  {
   "cell_type": "code",
   "execution_count": null,
   "id": "2b3cc6df",
   "metadata": {},
   "outputs": [],
   "source": []
  },
  {
   "cell_type": "code",
   "execution_count": null,
   "id": "4d1cd613",
   "metadata": {},
   "outputs": [],
   "source": []
  }
 ],
 "metadata": {
  "kernelspec": {
   "display_name": "venv",
   "language": "python",
   "name": "venv"
  },
  "language_info": {
   "codemirror_mode": {
    "name": "ipython",
    "version": 3
   },
   "file_extension": ".py",
   "mimetype": "text/x-python",
   "name": "python",
   "nbconvert_exporter": "python",
   "pygments_lexer": "ipython3",
   "version": "3.10.12"
  }
 },
 "nbformat": 4,
 "nbformat_minor": 5
}
