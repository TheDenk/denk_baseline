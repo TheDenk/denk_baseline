{
 "cells": [
  {
   "cell_type": "code",
   "execution_count": 1,
   "id": "720d21a7",
   "metadata": {},
   "outputs": [
    {
     "name": "stdout",
     "output_type": "stream",
     "text": [
      "/home/user/Projects/denk_baseline\n"
     ]
    }
   ],
   "source": [
    "%cd ../../.."
   ]
  },
  {
   "cell_type": "code",
   "execution_count": 2,
   "id": "f8002691",
   "metadata": {},
   "outputs": [
    {
     "name": "stderr",
     "output_type": "stream",
     "text": [
      "/home/user/Projects/denk_baseline/venv/lib/python3.10/site-packages/tqdm/auto.py:22: TqdmWarning: IProgress not found. Please update jupyter and ipywidgets. See https://ipywidgets.readthedocs.io/en/stable/user_install.html\n",
      "  from .autonotebook import tqdm as notebook_tqdm\n"
     ]
    }
   ],
   "source": [
    "import os\n",
    "import glob\n",
    "from pprint import pprint\n",
    "\n",
    "import torch\n",
    "import pandas as pd\n",
    "from omegaconf import OmegaConf\n",
    "\n",
    "from denk_baseline.datamodules import DataModule\n",
    "# from denk_baseline.custom_models.classification.next_vit import NextViT\n",
    "from denk_baseline.lightning_models import ClassificationBinaryModel\n",
    "from run import preprocess_config, parse_loggers, get_obj_from_str"
   ]
  },
  {
   "cell_type": "code",
   "execution_count": 3,
   "id": "bb6a7229",
   "metadata": {},
   "outputs": [],
   "source": [
    "config = OmegaConf.load('./rsna_config.yaml')\n",
    "config = preprocess_config(config)"
   ]
  },
  {
   "cell_type": "code",
   "execution_count": 4,
   "id": "c54721df",
   "metadata": {},
   "outputs": [],
   "source": [
    "config['datasets']['test'] = {}\n",
    "config['datasets']['test']['target'] = 'projects.rsna_2022.dataset.RSNADataset'\n",
    "config['datasets']['test']['params'] = {\n",
    "    'images_dir': '/media/user/FastNVME/processed_images', \n",
    "    'csv_path': '/home/user/datasets/rsna_2022/folds/holdt.csv', \n",
    "    'stage': 'test',\n",
    "    'img_h': 512*3, \n",
    "    'img_w': 320*3,\n",
    "}"
   ]
  },
  {
   "cell_type": "code",
   "execution_count": 5,
   "id": "5bf98fae",
   "metadata": {},
   "outputs": [
    {
     "name": "stderr",
     "output_type": "stream",
     "text": [
      "/home/user/Projects/denk_baseline/projects/rsna_2022/dataset.py:14: DtypeWarning: Columns (2,3,14) have mixed types. Specify dtype option on import or set low_memory=False.\n",
      "  self.df = pd.read_csv(csv_path).reset_index()[:-2]\n"
     ]
    }
   ],
   "source": [
    "datamodule = DataModule(config)"
   ]
  },
  {
   "cell_type": "code",
   "execution_count": 6,
   "id": "5bc4e36e",
   "metadata": {
    "scrolled": true
   },
   "outputs": [
    {
     "name": "stdout",
     "output_type": "stream",
     "text": [
      "./output/rsna-2022/eff3-1536-960-0-0-no-kornia/best_auc-epoch=021-pfscore_valid=0.269-roc_auc_torch_valid=0.809-total_loss_valid=0.133.ckpt\n"
     ]
    },
    {
     "name": "stderr",
     "output_type": "stream",
     "text": [
      "/home/user/Projects/denk_baseline/venv/lib/python3.10/site-packages/torchmetrics/utilities/prints.py:36: UserWarning: Metric `AUROC` will save all targets and predictions in buffer. For large datasets this may lead to large memory footprint.\n",
      "  warnings.warn(*args, **kwargs)\n",
      "Using bfloat16 Automatic Mixed Precision (AMP)\n",
      "GPU available: True, used: True\n",
      "TPU available: False, using: 0 TPU cores\n",
      "IPU available: False, using: 0 IPUs\n",
      "HPU available: False, using: 0 HPUs\n",
      "The following callbacks returned in `LightningModule.configure_callbacks` will override existing callbacks passed to Trainer: ModelCheckpoint\n",
      "LOCAL_RANK: 0 - CUDA_VISIBLE_DEVICES: [0]\n"
     ]
    },
    {
     "name": "stdout",
     "output_type": "stream",
     "text": [
      "Testing DataLoader 0: 100%|███████████████████| 689/689 [01:59<00:00,  5.78it/s]\n",
      "────────────────────────────────────────────────────────────────────────────────────────────────────────────────────────\n",
      "       Test metric             DataLoader 0\n",
      "────────────────────────────────────────────────────────────────────────────────────────────────────────────────────────\n",
      "      bce_loss_test         0.16234838962554932\n",
      "      f1_torch_test         0.16091954708099365\n",
      "      pfscore_test          0.1724127233028412\n",
      "   pfscore_thres_test       0.22047244012355804\n",
      "     pre_torch_test         0.3684210479259491\n",
      "     rec_torch_test         0.10294117778539658\n",
      "   roc_auc_torch_test       0.7923235297203064\n",
      "   test_best_threshold      0.10000000149011612\n",
      "     total_loss_test        0.16234838962554932\n",
      "────────────────────────────────────────────────────────────────────────────────────────────────────────────────────────\n",
      "./output/rsna-2022/eff3-1536-960-0-0-no-kornia/best_loss-epoch=006-pfscore_valid=0.147-roc_auc_torch_valid=0.671-total_loss_valid=0.100.ckpt\n"
     ]
    },
    {
     "name": "stderr",
     "output_type": "stream",
     "text": [
      "/tmp/ipykernel_1366452/4032140444.py:35: FutureWarning: The frame.append method is deprecated and will be removed from pandas in a future version. Use pandas.concat instead.\n",
      "  out_df = out_df.append({\n",
      "/home/user/Projects/denk_baseline/venv/lib/python3.10/site-packages/torchmetrics/utilities/prints.py:36: UserWarning: Metric `AUROC` will save all targets and predictions in buffer. For large datasets this may lead to large memory footprint.\n",
      "  warnings.warn(*args, **kwargs)\n",
      "Using bfloat16 Automatic Mixed Precision (AMP)\n",
      "GPU available: True, used: True\n",
      "TPU available: False, using: 0 TPU cores\n",
      "IPU available: False, using: 0 IPUs\n",
      "HPU available: False, using: 0 HPUs\n",
      "The following callbacks returned in `LightningModule.configure_callbacks` will override existing callbacks passed to Trainer: ModelCheckpoint\n",
      "LOCAL_RANK: 0 - CUDA_VISIBLE_DEVICES: [0]\n"
     ]
    },
    {
     "name": "stdout",
     "output_type": "stream",
     "text": [
      "Testing DataLoader 0: 100%|███████████████████| 689/689 [01:57<00:00,  5.86it/s]\n",
      "────────────────────────────────────────────────────────────────────────────────────────────────────────────────────────\n",
      "       Test metric             DataLoader 0\n",
      "────────────────────────────────────────────────────────────────────────────────────────────────────────────────────────\n",
      "      bce_loss_test         0.10717234760522842\n",
      "      f1_torch_test         0.08163265883922577\n",
      "      pfscore_test          0.08932296931743622\n",
      "   pfscore_thres_test       0.15999998152256012\n",
      "     pre_torch_test         0.5454545617103577\n",
      "     rec_torch_test         0.04411764815449715\n",
      "   roc_auc_torch_test        0.739054799079895\n",
      "   test_best_threshold      0.10000000149011612\n",
      "     total_loss_test        0.10717234760522842\n",
      "────────────────────────────────────────────────────────────────────────────────────────────────────────────────────────\n"
     ]
    },
    {
     "name": "stderr",
     "output_type": "stream",
     "text": [
      "/tmp/ipykernel_1366452/4032140444.py:35: FutureWarning: The frame.append method is deprecated and will be removed from pandas in a future version. Use pandas.concat instead.\n",
      "  out_df = out_df.append({\n"
     ]
    },
    {
     "name": "stdout",
     "output_type": "stream",
     "text": [
      "./output/rsna-2022/eff3-1536-960-0-0-no-kornia/best_pfscore-epoch=008-pfscore_valid=0.275-roc_auc_torch_valid=0.774-total_loss_valid=0.151.ckpt\n"
     ]
    },
    {
     "name": "stderr",
     "output_type": "stream",
     "text": [
      "/home/user/Projects/denk_baseline/venv/lib/python3.10/site-packages/torchmetrics/utilities/prints.py:36: UserWarning: Metric `AUROC` will save all targets and predictions in buffer. For large datasets this may lead to large memory footprint.\n",
      "  warnings.warn(*args, **kwargs)\n",
      "Using bfloat16 Automatic Mixed Precision (AMP)\n",
      "GPU available: True, used: True\n",
      "TPU available: False, using: 0 TPU cores\n",
      "IPU available: False, using: 0 IPUs\n",
      "HPU available: False, using: 0 HPUs\n",
      "The following callbacks returned in `LightningModule.configure_callbacks` will override existing callbacks passed to Trainer: ModelCheckpoint\n",
      "LOCAL_RANK: 0 - CUDA_VISIBLE_DEVICES: [0]\n"
     ]
    },
    {
     "name": "stdout",
     "output_type": "stream",
     "text": [
      "Testing DataLoader 0: 100%|███████████████████| 689/689 [02:00<00:00,  5.74it/s]\n",
      "────────────────────────────────────────────────────────────────────────────────────────────────────────────────────────\n",
      "       Test metric             DataLoader 0\n",
      "────────────────────────────────────────────────────────────────────────────────────────────────────────────────────────\n",
      "      bce_loss_test         0.18172331154346466\n",
      "      f1_torch_test         0.16149069368839264\n",
      "      pfscore_test          0.1385989934206009\n",
      "   pfscore_thres_test       0.1589958220720291\n",
      "     pre_torch_test         0.5199999809265137\n",
      "     rec_torch_test         0.09558823704719543\n",
      "   roc_auc_torch_test       0.7646257877349854\n",
      "   test_best_threshold      0.10000000149011612\n",
      "     total_loss_test        0.18172331154346466\n",
      "────────────────────────────────────────────────────────────────────────────────────────────────────────────────────────\n"
     ]
    },
    {
     "name": "stderr",
     "output_type": "stream",
     "text": [
      "/tmp/ipykernel_1366452/4032140444.py:35: FutureWarning: The frame.append method is deprecated and will be removed from pandas in a future version. Use pandas.concat instead.\n",
      "  out_df = out_df.append({\n"
     ]
    }
   ],
   "source": [
    "out_df = pd.DataFrame(columns=['name', 'loss', 'pre', 'rec', 'f1', 'pf', 'pf_tres', 'auc', 'tres'])\n",
    "\n",
    "exp_name = config['common']['exp_name']\n",
    "project_name = config['common']['project_name']\n",
    "save_dir = config['common']['save_dir']\n",
    "\n",
    "exp_dir = f'./{save_dir}/{project_name}/{exp_name}'\n",
    "ckpt_paths = glob.glob(exp_dir + '/*.ckpt')\n",
    "\n",
    "test_models_folder = 'tested_models'\n",
    "\n",
    "ckpt_paths = list(sorted(ckpt_paths))\n",
    "\n",
    "for ckpt_path in ckpt_paths:\n",
    "    if 'last' in os.path.basename(ckpt_path):\n",
    "        continue\n",
    "    \n",
    "    print(ckpt_path)\n",
    "    model = ClassificationBinaryModel(config)\n",
    "    model.load_state_dict(torch.load(ckpt_path, map_location='cpu')['state_dict'])\n",
    "\n",
    "    trainer = get_obj_from_str(config['trainer']['target'])(**config['trainer']['params'])\n",
    "    result = trainer.test(model, datamodule=datamodule)\n",
    "\n",
    "    state_dict = {}\n",
    "    m_dict = model.state_dict()\n",
    "    for name in m_dict:\n",
    "        state_dict[name.replace('model.', '')] = m_dict[name]\n",
    "    \n",
    "    b_metric = os.path.basename(ckpt_path[:-4]).split('-')[0]\n",
    "    loss = result[0]['total_loss_test']\n",
    "    pfscore = result[0]['pfscore_test']\n",
    "    auc = result[0]['roc_auc_torch_test']\n",
    "    \n",
    "    out_df = out_df.append({\n",
    "        'name': b_metric,\n",
    "        'loss': result[0]['total_loss_test'], \n",
    "        'pre': result[0]['pre_torch_test'], \n",
    "        'rec': result[0]['rec_torch_test'], \n",
    "        'f1': result[0]['f1_torch_test'], \n",
    "        'pf': result[0]['pfscore_test'], \n",
    "        'pf_tres': result[0]['pfscore_thres_test'], \n",
    "        'auc': result[0]['roc_auc_torch_test'], \n",
    "        'tres': result[0]['test_best_threshold'],\n",
    "    }, ignore_index=True)\n",
    "    \n",
    "    os.makedirs(f'./{save_dir}/{test_models_folder}/{exp_name}', exist_ok=True)\n",
    "    \n",
    "    out_path = f'./{save_dir}/{test_models_folder}/{exp_name}/nextvit-0-{b_metric}-loss-{loss:3.3f}-auc-{auc:3.3f}-pfscore-{pfscore:3.3f}.ckpt'\n",
    "    torch.save({\n",
    "        'state_dict': state_dict,\n",
    "    }, out_path)"
   ]
  },
  {
   "cell_type": "code",
   "execution_count": 7,
   "id": "e8929ed3",
   "metadata": {},
   "outputs": [
    {
     "data": {
      "text/html": [
       "<div>\n",
       "<style scoped>\n",
       "    .dataframe tbody tr th:only-of-type {\n",
       "        vertical-align: middle;\n",
       "    }\n",
       "\n",
       "    .dataframe tbody tr th {\n",
       "        vertical-align: top;\n",
       "    }\n",
       "\n",
       "    .dataframe thead th {\n",
       "        text-align: right;\n",
       "    }\n",
       "</style>\n",
       "<table border=\"1\" class=\"dataframe\">\n",
       "  <thead>\n",
       "    <tr style=\"text-align: right;\">\n",
       "      <th></th>\n",
       "      <th>name</th>\n",
       "      <th>loss</th>\n",
       "      <th>pre</th>\n",
       "      <th>rec</th>\n",
       "      <th>f1</th>\n",
       "      <th>pf</th>\n",
       "      <th>pf_tres</th>\n",
       "      <th>auc</th>\n",
       "      <th>tres</th>\n",
       "    </tr>\n",
       "  </thead>\n",
       "  <tbody>\n",
       "    <tr>\n",
       "      <th>0</th>\n",
       "      <td>best_auc</td>\n",
       "      <td>0.162348</td>\n",
       "      <td>0.368421</td>\n",
       "      <td>0.102941</td>\n",
       "      <td>0.160920</td>\n",
       "      <td>0.172413</td>\n",
       "      <td>0.220472</td>\n",
       "      <td>0.792324</td>\n",
       "      <td>0.1</td>\n",
       "    </tr>\n",
       "    <tr>\n",
       "      <th>1</th>\n",
       "      <td>best_loss</td>\n",
       "      <td>0.107172</td>\n",
       "      <td>0.545455</td>\n",
       "      <td>0.044118</td>\n",
       "      <td>0.081633</td>\n",
       "      <td>0.089323</td>\n",
       "      <td>0.160000</td>\n",
       "      <td>0.739055</td>\n",
       "      <td>0.1</td>\n",
       "    </tr>\n",
       "    <tr>\n",
       "      <th>2</th>\n",
       "      <td>best_pfscore</td>\n",
       "      <td>0.181723</td>\n",
       "      <td>0.520000</td>\n",
       "      <td>0.095588</td>\n",
       "      <td>0.161491</td>\n",
       "      <td>0.138599</td>\n",
       "      <td>0.158996</td>\n",
       "      <td>0.764626</td>\n",
       "      <td>0.1</td>\n",
       "    </tr>\n",
       "  </tbody>\n",
       "</table>\n",
       "</div>"
      ],
      "text/plain": [
       "           name      loss       pre       rec        f1        pf   pf_tres  \\\n",
       "0      best_auc  0.162348  0.368421  0.102941  0.160920  0.172413  0.220472   \n",
       "1     best_loss  0.107172  0.545455  0.044118  0.081633  0.089323  0.160000   \n",
       "2  best_pfscore  0.181723  0.520000  0.095588  0.161491  0.138599  0.158996   \n",
       "\n",
       "        auc  tres  \n",
       "0  0.792324   0.1  \n",
       "1  0.739055   0.1  \n",
       "2  0.764626   0.1  "
      ]
     },
     "execution_count": 7,
     "metadata": {},
     "output_type": "execute_result"
    }
   ],
   "source": [
    "out_df"
   ]
  },
  {
   "cell_type": "code",
   "execution_count": null,
   "id": "f5e8fc00",
   "metadata": {},
   "outputs": [],
   "source": []
  },
  {
   "cell_type": "code",
   "execution_count": null,
   "id": "1bbb8ea7",
   "metadata": {},
   "outputs": [],
   "source": []
  },
  {
   "cell_type": "code",
   "execution_count": null,
   "id": "211cc355",
   "metadata": {},
   "outputs": [],
   "source": []
  },
  {
   "cell_type": "code",
   "execution_count": null,
   "id": "025c6664",
   "metadata": {},
   "outputs": [],
   "source": []
  }
 ],
 "metadata": {
  "kernelspec": {
   "display_name": "venv",
   "language": "python",
   "name": "venv"
  },
  "language_info": {
   "codemirror_mode": {
    "name": "ipython",
    "version": 3
   },
   "file_extension": ".py",
   "mimetype": "text/x-python",
   "name": "python",
   "nbconvert_exporter": "python",
   "pygments_lexer": "ipython3",
   "version": "3.10.6"
  }
 },
 "nbformat": 4,
 "nbformat_minor": 5
}
