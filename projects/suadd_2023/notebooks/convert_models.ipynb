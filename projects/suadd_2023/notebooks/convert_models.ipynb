{
 "cells": [
  {
   "cell_type": "code",
   "execution_count": 1,
   "id": "720d21a7",
   "metadata": {},
   "outputs": [
    {
     "name": "stdout",
     "output_type": "stream",
     "text": [
      "/home/user/Projects/denk_baseline\n"
     ]
    }
   ],
   "source": [
    "%cd ../../.."
   ]
  },
  {
   "cell_type": "code",
   "execution_count": 2,
   "id": "f8002691",
   "metadata": {},
   "outputs": [
    {
     "name": "stderr",
     "output_type": "stream",
     "text": [
      "/home/user/Projects/denk_baseline/venv/lib/python3.10/site-packages/tqdm/auto.py:22: TqdmWarning: IProgress not found. Please update jupyter and ipywidgets. See https://ipywidgets.readthedocs.io/en/stable/user_install.html\n",
      "  from .autonotebook import tqdm as notebook_tqdm\n"
     ]
    }
   ],
   "source": [
    "import os\n",
    "import glob\n",
    "from pprint import pprint\n",
    "\n",
    "import torch\n",
    "import pandas as pd\n",
    "from omegaconf import OmegaConf\n",
    "\n",
    "from denk_baseline.datamodules import DataModule\n",
    "from denk_baseline.lightning_models import SegmentationMulticlassModel\n",
    "from run import preprocess_config, parse_loggers, get_obj_from_str"
   ]
  },
  {
   "cell_type": "code",
   "execution_count": 3,
   "id": "bb6a7229",
   "metadata": {},
   "outputs": [],
   "source": [
    "config = OmegaConf.load('./suadd_config.yaml')\n",
    "config = preprocess_config(config)\n",
    "config['trainer']['params']['gpus'] = None"
   ]
  },
  {
   "cell_type": "code",
   "execution_count": 4,
   "id": "5bf98fae",
   "metadata": {},
   "outputs": [],
   "source": [
    "datamodule = DataModule(config)"
   ]
  },
  {
   "cell_type": "code",
   "execution_count": 5,
   "id": "5bc4e36e",
   "metadata": {
    "scrolled": true
   },
   "outputs": [
    {
     "name": "stdout",
     "output_type": "stream",
     "text": [
      "_IncompatibleKeys(missing_keys=['patch_embed1.proj.weight'], unexpected_keys=['decode_head.conv_seg.weight', 'decode_head.linear_pred.weight', 'decode_head.conv_seg.bias', 'decode_head.linear_pred.bias', 'decode_head.linear_c4.proj.weight', 'decode_head.linear_c4.proj.bias', 'decode_head.linear_c3.proj.weight', 'decode_head.linear_c3.proj.bias', 'decode_head.linear_c2.proj.weight', 'decode_head.linear_c2.proj.bias', 'decode_head.linear_c1.proj.weight', 'decode_head.linear_c1.proj.bias', 'decode_head.linear_fuse.conv.weight', 'decode_head.linear_fuse.bn.weight', 'decode_head.linear_fuse.bn.bias', 'decode_head.linear_fuse.bn.running_mean', 'decode_head.linear_fuse.bn.running_var', 'decode_head.linear_fuse.bn.num_batches_tracked'])\n",
      "_IncompatibleKeys(missing_keys=['patch_embed1.proj.weight'], unexpected_keys=['decode_head.conv_seg.weight', 'decode_head.linear_pred.weight', 'decode_head.conv_seg.bias', 'decode_head.linear_pred.bias', 'decode_head.linear_c4.proj.weight', 'decode_head.linear_c4.proj.bias', 'decode_head.linear_c3.proj.weight', 'decode_head.linear_c3.proj.bias', 'decode_head.linear_c2.proj.weight', 'decode_head.linear_c2.proj.bias', 'decode_head.linear_c1.proj.weight', 'decode_head.linear_c1.proj.bias', 'decode_head.linear_fuse.conv.weight', 'decode_head.linear_fuse.bn.weight', 'decode_head.linear_fuse.bn.bias', 'decode_head.linear_fuse.bn.running_mean', 'decode_head.linear_fuse.bn.running_var', 'decode_head.linear_fuse.bn.num_batches_tracked'])\n",
      "_IncompatibleKeys(missing_keys=['patch_embed1.proj.weight'], unexpected_keys=['decode_head.conv_seg.weight', 'decode_head.linear_pred.weight', 'decode_head.conv_seg.bias', 'decode_head.linear_pred.bias', 'decode_head.linear_c4.proj.weight', 'decode_head.linear_c4.proj.bias', 'decode_head.linear_c3.proj.weight', 'decode_head.linear_c3.proj.bias', 'decode_head.linear_c2.proj.weight', 'decode_head.linear_c2.proj.bias', 'decode_head.linear_c1.proj.weight', 'decode_head.linear_c1.proj.bias', 'decode_head.linear_fuse.conv.weight', 'decode_head.linear_fuse.bn.weight', 'decode_head.linear_fuse.bn.bias', 'decode_head.linear_fuse.bn.running_mean', 'decode_head.linear_fuse.bn.running_var', 'decode_head.linear_fuse.bn.num_batches_tracked'])\n",
      "_IncompatibleKeys(missing_keys=['patch_embed1.proj.weight'], unexpected_keys=['decode_head.conv_seg.weight', 'decode_head.linear_pred.weight', 'decode_head.conv_seg.bias', 'decode_head.linear_pred.bias', 'decode_head.linear_c4.proj.weight', 'decode_head.linear_c4.proj.bias', 'decode_head.linear_c3.proj.weight', 'decode_head.linear_c3.proj.bias', 'decode_head.linear_c2.proj.weight', 'decode_head.linear_c2.proj.bias', 'decode_head.linear_c1.proj.weight', 'decode_head.linear_c1.proj.bias', 'decode_head.linear_fuse.conv.weight', 'decode_head.linear_fuse.bn.weight', 'decode_head.linear_fuse.bn.bias', 'decode_head.linear_fuse.bn.running_mean', 'decode_head.linear_fuse.bn.running_var', 'decode_head.linear_fuse.bn.num_batches_tracked'])\n"
     ]
    }
   ],
   "source": [
    "exp_name = config['common']['exp_name']\n",
    "project_name = config['common']['project_name']\n",
    "save_dir = config['common']['save_dir']\n",
    "\n",
    "exp_dir = f'./{save_dir}/{project_name}/{exp_name}'\n",
    "ckpt_paths = glob.glob(exp_dir + '/*.ckpt')\n",
    "\n",
    "test_models_folder = 'tested_models'\n",
    "ckpt_paths = list(sorted(ckpt_paths))\n",
    "\n",
    "for ckpt_path in ckpt_paths:\n",
    "    model_name = os.path.basename(ckpt_path)\n",
    "    model = SegmentationMulticlassModel(config)\n",
    "    model.load_state_dict(torch.load(ckpt_path, map_location='cpu')['state_dict'])\n",
    "    \n",
    "    state_dict = {}\n",
    "    m_dict = model.state_dict()\n",
    "    for name in m_dict:\n",
    "        state_dict[name.replace('model.', '')] = m_dict[name]\n",
    "        \n",
    "    out_folder = f'./{save_dir}/{test_models_folder}/{exp_name}'\n",
    "    os.makedirs(out_folder, exist_ok=True)\n",
    "    out_path = f'./{out_folder}/{model_name}'\n",
    "    torch.save({\n",
    "        'state_dict': state_dict,\n",
    "    }, out_path)"
   ]
  },
  {
   "cell_type": "code",
   "execution_count": null,
   "id": "e8929ed3",
   "metadata": {},
   "outputs": [],
   "source": []
  },
  {
   "cell_type": "code",
   "execution_count": null,
   "id": "f5e8fc00",
   "metadata": {},
   "outputs": [],
   "source": []
  },
  {
   "cell_type": "code",
   "execution_count": null,
   "id": "1bbb8ea7",
   "metadata": {},
   "outputs": [],
   "source": []
  },
  {
   "cell_type": "code",
   "execution_count": null,
   "id": "211cc355",
   "metadata": {},
   "outputs": [],
   "source": []
  },
  {
   "cell_type": "code",
   "execution_count": null,
   "id": "025c6664",
   "metadata": {},
   "outputs": [],
   "source": []
  }
 ],
 "metadata": {
  "kernelspec": {
   "display_name": "venv",
   "language": "python",
   "name": "venv"
  },
  "language_info": {
   "codemirror_mode": {
    "name": "ipython",
    "version": 3
   },
   "file_extension": ".py",
   "mimetype": "text/x-python",
   "name": "python",
   "nbconvert_exporter": "python",
   "pygments_lexer": "ipython3",
   "version": "3.10.6"
  }
 },
 "nbformat": 4,
 "nbformat_minor": 5
}
